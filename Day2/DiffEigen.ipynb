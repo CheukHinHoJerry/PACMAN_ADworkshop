{
 "cells": [
  {
   "cell_type": "code",
   "execution_count": null,
   "id": "b1b74f43",
   "metadata": {},
   "outputs": [],
   "source": [
    "using Pkg;Pkg.activate(\".\") \n",
    "using LaTeXStrings, LinearAlgebra, Zygote, ForwardDiff, Printf, Plots\n",
    "include(\"utils.jl\")"
   ]
  },
  {
   "cell_type": "markdown",
   "id": "9a739eb3",
   "metadata": {},
   "source": [
    "#### 1-d Chain :  \n",
    "\n",
    "- Particles at positions $X = (x_1, \\dots, x_N)$, with periodic boundary conditions \n",
    "- Hamiltonian operator  $H_{ij}^{\\alpha\\beta}$\n",
    "$$\n",
    "\\begin{aligned}\n",
    "    {H}_{\\ell \\ell} = \n",
    "        \\begin{pmatrix}\n",
    "            0 & 0 \\\\\n",
    "            0 & 2\n",
    "        \\end{pmatrix} \n",
    "        %\n",
    "        \\qquad \n",
    "        %\n",
    "        {H}_{\\ell k} = \n",
    "            \\begin{pmatrix}\n",
    "                f_1(r_{\\ell k}) &  f_3(r_{\\ell k}) \\\\\n",
    "                f_3(r_{\\ell k}) &  f_2(r_{\\ell k})\n",
    "            \\end{pmatrix}\n",
    "\\end{aligned}\n",
    "$$\n",
    "where $f_i(r) = (b_i r + a_i ) e^{-r^2}$, $r$ is the torus distance.\n",
    "\n",
    "Given the Hamiltonian, we diagonalize it, \n",
    "$$\n",
    "    H v_i = \\lambda_i v_i\n",
    "$$\n",
    "and then compute the density matrix \n",
    "$$\n",
    "    \\rho = \\sum_i f(\\lambda_i) v_i \\otimes v_i\n",
    "$$\n",
    "We are interested in \n",
    "$$\n",
    "    \\nabla_x (\\rho_{11} + \\rho_{22}).\n",
    "$$\n",
    "This gives us the sensitivity of $\\rho$ with respect to particle positions $x_j$. We use this to study a form of near-sightedness in electronic structure models. "
   ]
  },
  {
   "cell_type": "code",
   "execution_count": null,
   "id": "bac64cc9",
   "metadata": {},
   "outputs": [],
   "source": [
    "# This can be extended to more general matrices H\n",
    "# Here we just construct a hamiltonian with 2 orbitals and fixed GAP = 2.0\n",
    "\n",
    "function hamiltonian(X::AbstractVector{T}) where {T} \n",
    "    N = length(X)\n",
    "    L = N \n",
    "    # parameters \n",
    "    p = 0.923; e = exp(1)\n",
    "    a = [1.5, 0.5, 0.0] * e\n",
    "    b = [-0.5, 0.2, p] * e\n",
    "    \n",
    "    # hamiltonian onsite block\n",
    "    onsite = [0.0 0.0; 0.0 2.0]\n",
    "    \n",
    "    # offsite blocks\n",
    "    function offsite(x, α, β) \n",
    "        if α == β == 1  \n",
    "            return (b[1]*x+a[1]) * exp(-x^2)\n",
    "        elseif α == β == 2\n",
    "            return (b[2]*x+a[2]) * exp(-x^2)\n",
    "        else      \n",
    "            return (b[3]*x+a[3]) * exp(-x^2)\n",
    "        end\n",
    "    end\n",
    "        \n",
    "    # periodic distance \n",
    "    perdist(i, j) = sin(π / L * abs(X[i] - X[j])) * L / (π)\n",
    "    \n",
    "    function _h(i, j, α,  β)\n",
    "        x = perdist(i, j) \n",
    "        if i == j\n",
    "            return onsite[α, β] \n",
    "        else \n",
    "            return offsite(x, α, β)\n",
    "        end\n",
    "    end\n",
    "    \n",
    "    H = [ _h(i÷2+1, j÷2+1, i%2+1, j%2+1) for i = 0:2*N-1, j = 0:2*N-1 ]\n",
    "    return H \n",
    "            \n",
    "end"
   ]
  },
  {
   "cell_type": "code",
   "execution_count": null,
   "id": "1c282ba0",
   "metadata": {},
   "outputs": [],
   "source": [
    "# a quick little test that the hamiltonian evaluates ok \n",
    "# and that the eigendecomposition behaves as expected: \n",
    "N = 5\n",
    "X = (1:N) + 0.03 * (rand(N) .- 0.5)\n",
    "H = hamiltonian(X)\n",
    "λ, V = eigen(H)\n",
    "norm(H * V[:, 1] - λ[1] * V[:, 1])"
   ]
  },
  {
   "cell_type": "code",
   "execution_count": null,
   "id": "33031d6d",
   "metadata": {},
   "outputs": [],
   "source": [
    "# Now we can implement the density matrix\n",
    "# or rather the trace of the ρ₁₁ block \n",
    "# which we want to differentiate. \n",
    "function ρ11(X)\n",
    "    N = length(X) \n",
    "    H = hamiltonian(X)\n",
    "    λ, V = eigen(H)\n",
    "    β = 10.0 \n",
    "    fd = 1 ./ (1 .+ exp.(β * λ))\n",
    "    return sum( (V[1, :].^2 + V[2,:].^2) .* fd )\n",
    "end"
   ]
  },
  {
   "cell_type": "code",
   "execution_count": null,
   "id": "3f704f8e",
   "metadata": {},
   "outputs": [],
   "source": [
    "# clearly Zygote is happy to do this for us!!\n",
    "N = 6\n",
    "X = (1:N) + 0.01 * (rand(N) .- 0.5)\n",
    "Zygote.gradient(ρ11, X)[1]"
   ]
  },
  {
   "cell_type": "markdown",
   "id": "0416fe0d",
   "metadata": {},
   "source": [
    "### Finite difference test\n",
    "\n",
    "(is the gradient correct?)"
   ]
  },
  {
   "cell_type": "code",
   "execution_count": null,
   "id": "9d3f26a2",
   "metadata": {},
   "outputs": [],
   "source": [
    "fdtest( ρ11, x -> Zygote.gradient(ρ11, x)[1], X )\n",
    "println(\"nice\")"
   ]
  },
  {
   "cell_type": "markdown",
   "id": "77ffc88b",
   "metadata": {},
   "source": [
    "### Decay of   $\\frac{\\rho(\\mathcal{H})_{ℓℓ}}{dr_m}$\n",
    "\n",
    "This was the original problem we wanted to work on."
   ]
  },
  {
   "cell_type": "code",
   "execution_count": null,
   "id": "7cf06c69",
   "metadata": {},
   "outputs": [],
   "source": [
    "N = 100\n",
    "X = (1:N) .+ rand(N)\n",
    "g = Zygote.gradient(ρ11, X)[1];"
   ]
  },
  {
   "cell_type": "code",
   "execution_count": null,
   "id": "3b4adc34",
   "metadata": {},
   "outputs": [],
   "source": [
    "g"
   ]
  },
  {
   "cell_type": "code",
   "execution_count": null,
   "id": "748322af",
   "metadata": {},
   "outputs": [],
   "source": [
    "using Plots\n",
    "\n",
    "scatter(1:30, abs.(g[1:30]), yscale = :log10, size = (600, 500), \n",
    "        xlabel = L\"x_{j}\", ylabel = L\"∇_{x_j} ρ_{11}\", \n",
    "        label = \"empirical decay\")\n",
    "plot!( [10,20], 100*exp.(- [10, 20]), lw=2, ls=:dash, c=:black, \n",
    "        label = L\"\\sim e^{-r}\")"
   ]
  }
 ],
 "metadata": {
  "kernelspec": {
   "display_name": "Julia 1.10.0",
   "language": "julia",
   "name": "julia-1.10"
  },
  "language_info": {
   "file_extension": ".jl",
   "mimetype": "application/julia",
   "name": "julia",
   "version": "1.10.0"
  }
 },
 "nbformat": 4,
 "nbformat_minor": 5
}
