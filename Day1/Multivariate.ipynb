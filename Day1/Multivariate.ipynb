{
 "cells": [
  {
   "cell_type": "code",
   "execution_count": 1,
   "metadata": {},
   "outputs": [
    {
     "name": "stderr",
     "output_type": "stream",
     "text": [
      "\u001b[32m\u001b[1m  Activating\u001b[22m\u001b[39m project at `~/julia_ws/PACMAN_ADworkshop/Day1`\n"
     ]
    },
    {
     "name": "stderr",
     "output_type": "stream",
     "text": [
      "\u001b[32m\u001b[1mPrecompiling\u001b[22m\u001b[39m project...\n"
     ]
    },
    {
     "name": "stderr",
     "output_type": "stream",
     "text": [
      "\u001b[32m  ✓ \u001b[39mPluto\n",
      "  1 dependency successfully precompiled in 74 seconds. 53 already precompiled.\n"
     ]
    }
   ],
   "source": [
    "using Pkg; Pkg.activate(\".\"); Pkg.instantiate()"
   ]
  },
  {
   "cell_type": "markdown",
   "metadata": {},
   "source": [
    "Forward and backward mode in multivariate functions\n",
    "------------\n",
    "\n",
    "Consider again the chain of functions:\n",
    "\n",
    "$$\n",
    "f(g(h(x))) = f(g(y)) = f(z) = F,\n",
    "$$\n",
    "\n",
    "with \n",
    "\n",
    "$$\n",
    "\\begin{cases}\n",
    "h(x) = y \\\\\n",
    " g(y) = z \\\\ \n",
    " f(z) = F\n",
    "\\end{cases}.\n",
    "$$\n",
    "\n",
    "Then the chain rule gives\n",
    "\n",
    "$$\n",
    "\\underbrace{\\frac{\\partial F}{\\partial x}}_{|F| \\times |x|} = \\underbrace{\\frac{\\partial F}{\\partial z}}_{|F| \\times |z|} \\underbrace{\\frac{\\partial z}{\\partial y}}_{|z| \\times |y|} \\underbrace{\\frac{\\partial y}{\\partial x}}_{|y| \\times |x|}\n",
    "\n",
    "$$\n",
    "\n",
    "where the underbraces indicated the dimention of each Jacobian."
   ]
  },
  {
   "cell_type": "markdown",
   "metadata": {},
   "source": [
    "Pushforward and pullback\n",
    "------------\n",
    "(Ref: https://juliadiff.org/ChainRulesCore.jl/v0.9/#The-propagators:-pushforward-and-pullback)\n",
    "\n",
    "Two fancy terms that the autodiff community adopted from Differential geometry. Understanding the terms \"pushforward\" and \"pullback\" in autodiff benefits from familiarity with their usage in differential geometry. However, even without prior knowledge, grasping their meaning in autodiff is feasible. \n",
    "\n",
    "Consider the above example with the chain of derivatives:\n",
    "\n",
    "$$\n",
    "\\frac{\\partial F}{\\partial x} = \\frac{\\partial F}{\\partial z} \\frac{\\partial z}{\\partial y} \\frac{\\partial y}{\\partial x}\n",
    "$$\n",
    "\n",
    "\n",
    "The ***pushforward*** of $g$, incoperates the knowledge of $\\frac{\\partial z}{\\partial y}$ and takes $\\frac{\\partial y}{\\partial z}$ to $\\frac{\\partial z}{\\partial x}$. i.e.\n",
    "\n",
    "$$\n",
    "\\frac{\\partial y}{\\partial z} \\xrightarrow{\\frac{\\partial z}{\\partial y}} \\frac{\\partial z}{\\partial x}\n",
    "$$\n",
    "\n",
    "\n",
    "Similarly, the ***pullback*** of $g$, incoperates the knowledge of $\\frac{\\partial z}{\\partial y}$ and takes $\\frac{\\partial F}{\\partial z}$ to $\\frac{\\partial F}{\\partial y}$. i.e.\n",
    "\n",
    "$$\n",
    "\\frac{\\partial F}{\\partial z} \\xrightarrow{\\frac{\\partial z}{\\partial y}} \\frac{\\partial F}{\\partial y}.\n",
    "$$"
   ]
  },
  {
   "cell_type": "markdown",
   "metadata": {},
   "source": [
    "Multivariate reverse mode - simple example\n",
    "------------\n",
    "\n",
    "$$\n",
    "f(x,y,z) = xzsin(xy)\n",
    "$$"
   ]
  },
  {
   "cell_type": "markdown",
   "metadata": {},
   "source": [
    "Computational cost analysis\n",
    "------------\n",
    "\n",
    "- Recall: ***Forward mode*** means that we compute the derivative as the <b>SAME</b> direction as evaluation, i.e.\n",
    "\n",
    "$$\n",
    "\\frac{\\partial y}{\\partial x} \\rightarrow \\frac{\\partial z}{\\partial x} \\rightarrow \\frac{\\partial F}{\\partial x}\n",
    "$$\n",
    "\n",
    "where we compute $\\frac{\\partial z}{\\partial y}$ and $\\frac{\\partial F}{\\partial z}$ in the first and second arrow respectively. Or, equivalently, \n",
    "\n",
    "$$\n",
    "\\frac{\\partial F}{\\partial x} = \\frac{\\partial F}{\\partial z} \\left(\\frac{\\partial z}{\\partial y} \\frac{\\partial y}{\\partial x}\\right).\n",
    "$$\n",
    "\n",
    "What is the computational cost of evaluting $\\frac{\\partial F}{\\partial x}$  as above? This involves:\n",
    "\n",
    "\n",
    "- evaluating $\\frac{\\partial y}{\\partial x}$, $\\frac{\\partial z}{\\partial y}$ and $\\frac{\\partial F}{\\partial z}$. (Note : we do not have to store the full Jacobian in practice!)\n",
    "- $|x| \\times |y| \\times |z| + |x| \\times |z| \\times |F|$ multiplications\n",
    "\n",
    "How about backward mode?\n",
    "\n",
    "- ***Backward mode*** means that we compute the derivative as the <b>REVERSE</b> direction as evaluation, i.e.\n",
    "\n",
    "$$\n",
    "\\frac{\\partial F}{\\partial z} \\rightarrow \\frac{\\partial F}{\\partial y} \\rightarrow \\frac{\\partial F}{\\partial x}\n",
    "$$\n",
    "\n",
    "where we compute $\\frac{\\partial z}{\\partial y}$ and $\\frac{\\partial y}{\\partial x}$ in the first and second arrow respectively. Or, equivalently, \n",
    "\n",
    "$$\n",
    "\\frac{\\partial F}{\\partial x} = \\left(\\frac{\\partial F}{\\partial z} \\frac{\\partial z}{\\partial y}\\right) \\frac{\\partial y}{\\partial x}\n",
    "$$\n",
    "\n",
    "What is the computational cost of evaluting $\\frac{\\partial F}{\\partial x}$  as above? This involves:\n",
    "\n",
    "\n",
    "- evaluating $\\frac{\\partial y}{\\partial x}$, $\\frac{\\partial z}{\\partial y}$ and $\\frac{\\partial F}{\\partial z}$\n",
    "- $|F| \\times |z| \\times |y| + |F| \\times |y| \\times |x|$ multiplications\n",
    "\n",
    "\n",
    "Hence, when $|F| \\gg |x|$, <b>BACKWARD</b> mode is more efficient, and if $|x| \\gg |F|$, <b>FORWARD</b> mode is preferred. \n",
    "\n",
    "\n",
    "***Note:*** In pratice, the ***optimal*** scheme would usually be a mixed mode differentiation.\n"
   ]
  }
 ],
 "metadata": {
  "kernelspec": {
   "display_name": "Julia 1.9.2",
   "language": "julia",
   "name": "julia-1.9"
  },
  "language_info": {
   "file_extension": ".jl",
   "mimetype": "application/julia",
   "name": "julia",
   "version": "1.9.2"
  }
 },
 "nbformat": 4,
 "nbformat_minor": 2
}
