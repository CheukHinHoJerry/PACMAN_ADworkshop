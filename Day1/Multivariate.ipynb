{
 "cells": [
  {
   "cell_type": "code",
   "execution_count": 2,
   "metadata": {},
   "outputs": [
    {
     "name": "stderr",
     "output_type": "stream",
     "text": [
      "\u001b[32m\u001b[1m  Activating\u001b[22m\u001b[39m project at `~/julia_ws/PACMAN_ADworkshop`\n"
     ]
    },
    {
     "name": "stderr",
     "output_type": "stream",
     "text": [
      "\u001b[32m\u001b[1mPrecompiling\u001b[22m\u001b[39m project...\n"
     ]
    },
    {
     "name": "stderr",
     "output_type": "stream",
     "text": [
      "\u001b[32m  ✓ \u001b[39m\u001b[90mMacroTools\u001b[39m\n"
     ]
    },
    {
     "name": "stderr",
     "output_type": "stream",
     "text": [
      "\u001b[32m  ✓ \u001b[39m\u001b[90mCommonSubexpressions\u001b[39m\n"
     ]
    },
    {
     "name": "stderr",
     "output_type": "stream",
     "text": [
      "\u001b[32m  ✓ \u001b[39mForwardDiff\n",
      "  3 dependencies successfully precompiled in 9 seconds. 16 already precompiled.\n"
     ]
    }
   ],
   "source": [
    "using Pkg; Pkg.activate(\".\"); Pkg.instantiate()"
   ]
  },
  {
   "cell_type": "code",
   "execution_count": 3,
   "metadata": {},
   "outputs": [],
   "source": [
    "include(\"utils.jl\");"
   ]
  },
  {
   "cell_type": "markdown",
   "metadata": {},
   "source": [
    "Chain rules (Multivariate)\n",
    "------------\n",
    "\n",
    "Blablabla"
   ]
  },
  {
   "cell_type": "markdown",
   "metadata": {},
   "source": [
    "Forward and Backward Mode in N-dimensional problems\n",
    "------------\n",
    "\n",
    "Consider again the chain of functions:\n",
    "\n",
    "$$\n",
    "f(g(h(x))) = f(g(y)) = f(z) = F,\n",
    "$$\n",
    "\n",
    "with \n",
    "\n",
    "$$\n",
    "\\begin{cases}\n",
    "h(x) = y \\\\\n",
    " g(y) = z \\\\ \n",
    " f(z) = F\n",
    "\\end{cases}.\n",
    "$$\n",
    "\n",
    "Then the chain rule gives\n",
    "\n",
    "$$\n",
    "\\underbrace{\\frac{\\partial F}{\\partial x}}_{|F| \\times |x|} = \\underbrace{\\frac{\\partial F}{\\partial z}}_{|F| \\times |z|} \\underbrace{\\frac{\\partial z}{\\partial y}}_{|z| \\times |y|} \\underbrace{\\frac{\\partial y}{\\partial x}}_{|y| \\times |x|}\n",
    "\n",
    "$$\n",
    "\n",
    "where the underbraces indicated the dimention of each Jacobian."
   ]
  },
  {
   "cell_type": "markdown",
   "metadata": {},
   "source": [
    "Pushforward and pullback\n",
    "------------\n"
   ]
  },
  {
   "cell_type": "markdown",
   "metadata": {},
   "source": []
  },
  {
   "cell_type": "markdown",
   "metadata": {},
   "source": [
    "Computational cost analysis\n",
    "------------\n",
    "\n",
    "- Recall: ***Forward mode*** means that we compute the derivative as the <b>SAME</b> direction as evaluation, i.e.\n",
    "\n",
    "$$\n",
    "\\frac{\\partial y}{\\partial x} \\rightarrow \\frac{\\partial z}{\\partial x} \\rightarrow \\frac{\\partial F}{\\partial x}\n",
    "$$\n",
    "\n",
    "where we compute $\\frac{\\partial z}{\\partial y}$ and $\\frac{\\partial F}{\\partial z}$ in the first and second arrow respectively. Or, equivalently, \n",
    "\n",
    "$$\n",
    "\\frac{\\partial F}{\\partial x} = \\frac{\\partial F}{\\partial z} \\left(\\frac{\\partial z}{\\partial y} \\frac{\\partial y}{\\partial x}\\right).\n",
    "$$\n",
    "\n",
    "What is the computational cost of evaluting $\\frac{\\partial F}{\\partial x}$  as above? This involves:\n",
    "\n",
    "\n",
    "- evaluating $\\frac{\\partial y}{\\partial x}$, $\\frac{\\partial z}{\\partial y}$ and $\\frac{\\partial F}{\\partial z}$. (Note : we do not have to evaluate the full Jacobian but let's assume this for now for simplicity)\n",
    "- $|y| \\times |x| \\times |z| + |y| \\times |z| \\times |F|$ multiplications\n",
    "\n",
    "How about backward mode?\n",
    "\n",
    "- ***Backward mode*** means that we compute the derivative as the <b>REVERSE</b> direction as evaluation, i.e.\n",
    "\n",
    "$$\n",
    "\\frac{\\partial F}{\\partial z} \\rightarrow \\frac{\\partial F}{\\partial y} \\rightarrow \\frac{\\partial F}{\\partial x}\n",
    "$$\n",
    "\n",
    "where we compute $\\frac{\\partial z}{\\partial y}$ and $\\frac{\\partial y}{\\partial x}$ in the first and second arrow respectively. Or, equivalently, \n",
    "\n",
    "$$\n",
    "\\frac{\\partial F}{\\partial x} = \\left(\\frac{\\partial F}{\\partial z} \\frac{\\partial z}{\\partial y}\\right) \\frac{\\partial y}{\\partial x}\n",
    "$$\n",
    "\n",
    "What is the computational cost of evaluting $\\frac{\\partial F}{\\partial x}$  as above? This involves:\n",
    "\n",
    "\n",
    "- evaluating $\\frac{\\partial z}{\\partial y}$ and $\\frac{\\partial y}{\\partial x}$\n",
    "- $|y| \\times |x| \\times |z| + |y| \\times |z| \\times |F|$ multiplications\n"
   ]
  },
  {
   "cell_type": "markdown",
   "metadata": {},
   "source": []
  }
 ],
 "metadata": {
  "kernelspec": {
   "display_name": "Julia 1.9.2",
   "language": "julia",
   "name": "julia-1.9"
  },
  "language_info": {
   "file_extension": ".jl",
   "mimetype": "application/julia",
   "name": "julia",
   "version": "1.9.2"
  }
 },
 "nbformat": 4,
 "nbformat_minor": 2
}
