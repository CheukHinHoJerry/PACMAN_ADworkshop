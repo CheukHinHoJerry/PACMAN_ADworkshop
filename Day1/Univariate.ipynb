{
 "cells": [
  {
   "cell_type": "code",
   "execution_count": 2,
   "metadata": {},
   "outputs": [
    {
     "name": "stderr",
     "output_type": "stream",
     "text": [
      "\u001b[32m\u001b[1m  Activating\u001b[22m\u001b[39m project at `~/julia_ws/PACMAN_ADworkshop`\n"
     ]
    },
    {
     "name": "stderr",
     "output_type": "stream",
     "text": [
      "\u001b[32m\u001b[1mPrecompiling\u001b[22m\u001b[39m project...\n"
     ]
    },
    {
     "name": "stderr",
     "output_type": "stream",
     "text": [
      "\u001b[32m  ✓ \u001b[39m\u001b[90mMacroTools\u001b[39m\n"
     ]
    },
    {
     "name": "stderr",
     "output_type": "stream",
     "text": [
      "\u001b[32m  ✓ \u001b[39m\u001b[90mCommonSubexpressions\u001b[39m\n"
     ]
    },
    {
     "name": "stderr",
     "output_type": "stream",
     "text": [
      "\u001b[32m  ✓ \u001b[39mForwardDiff\n",
      "  3 dependencies successfully precompiled in 9 seconds. 16 already precompiled.\n"
     ]
    }
   ],
   "source": [
    "using Pkg; Pkg.activate(\".\"); Pkg.instantiate()"
   ]
  },
  {
   "cell_type": "code",
   "execution_count": 3,
   "metadata": {},
   "outputs": [],
   "source": [
    "include(\"utils.jl\");"
   ]
  },
  {
   "cell_type": "markdown",
   "metadata": {},
   "source": [
    "Chain rules (Univariate)\n",
    "------------\n",
    "\n",
    "Blablabla"
   ]
  },
  {
   "cell_type": "markdown",
   "metadata": {},
   "source": [
    "Dual Numbers\n",
    "------------\n",
    "\n",
    "The idea of Dual number is very simple and is so what like the imaginary numbers. With imaginary numbers, we have\n",
    "\n",
    "$$\n",
    "i^2 = -1. \n",
    "$$\n",
    "\n",
    "But with dual numbers, we have\n",
    "\n",
    "$$\n",
    "\\epsilon^2 = 0 .\n",
    "$$\n",
    "\n",
    "To understand better, we first consider a univariate function $f : \\mathbb{R} \\rightarrow \\mathbb{R}$. If $f$ is analytic, then:\n",
    "\n",
    "$$\n",
    "f(x + \\epsilon) = f(x) + f'(x) \\epsilon + O(\\epsilon^2).\n",
    "$$\n",
    "\n",
    "But $\\epsilon^2 = 0$ ! This means a forward evalaution of $f$ gives us also the derivative at the order $\\epsilon$ term.\n",
    "\n",
    "In Julia, the package ``ForwardDiff.jl`` has this implemented for us.\n",
    "\n",
    "Ref: https://github.com/JuliaDiff/ForwardDiff.jl"
   ]
  },
  {
   "cell_type": "code",
   "execution_count": 22,
   "metadata": {},
   "outputs": [],
   "source": [
    "using ForwardDiff\n",
    "\n",
    "# trial functino\n",
    "function f(x)\n",
    "    y = 1 / (1 + x^2)\n",
    "    z = sin(y)\n",
    "    return z\n",
    "end\n",
    "\n",
    "# its derivative calculated by hand\n",
    "function df(x)\n",
    "    return -2x * cos(1 / (1 + x^2)) / (1 + x^2)^2\n",
    "end\n",
    "\n",
    "@assert ForwardDiff.derivative(f, 1.0) ≈ df(1.0)"
   ]
  },
  {
   "cell_type": "markdown",
   "metadata": {},
   "source": [
    "Likewise one can use this package to work with vector functions...\n",
    "\n",
    "For instance gradient of $f: \\mathbb{R}^N \\rightarrow \\mathbb{R}$"
   ]
  },
  {
   "cell_type": "code",
   "execution_count": 18,
   "metadata": {},
   "outputs": [],
   "source": [
    "# trial function\n",
    "function fvec(x)\n",
    "    y = 1 ./ (1 .+ x.^2)\n",
    "    z = sin.(y)\n",
    "    return sum(z)\n",
    "end\n",
    "\n",
    "# derivative by hand\n",
    "function dfvec(x)\n",
    "    return -2 .* x .* cos.(1 ./ (1 .+ x.^2)) ./ (1 .+ x.^2).^2\n",
    "end\n",
    "\n",
    "N = 3\n",
    "\n",
    "# generate a random vector of size N\n",
    "X = randn(N)\n",
    "\n",
    "@assert ForwardDiff.gradient(fvec, X) ≈ dfvec(X)\n"
   ]
  },
  {
   "cell_type": "markdown",
   "metadata": {},
   "source": [
    "And also Jacobian of a function $f: \\mathbb{R}^N \\rightarrow \\mathbb{R}^M$"
   ]
  },
  {
   "cell_type": "code",
   "execution_count": 21,
   "metadata": {},
   "outputs": [],
   "source": [
    "# trial function\n",
    "function fmat(x)\n",
    "    return [4 * x[1] ^ 2 * x[2], x[1] - x[2]^2]\n",
    "end\n",
    "\n",
    "# derivative by hand\n",
    "function dfmat(x)\n",
    "    return [8*x[1]*x[2] 4*x[1]^2 ; 1 -2*x[2]]\n",
    "end\n",
    "\n",
    "N = M = 2\n",
    "X = randn(2)\n",
    "@assert ForwardDiff.jacobian(fmat, X) ≈ dfmat(X)\n"
   ]
  },
  {
   "cell_type": "markdown",
   "metadata": {},
   "source": [
    "Univariate forward and backward mode\n",
    "------------\n"
   ]
  },
  {
   "cell_type": "markdown",
   "metadata": {},
   "source": [
    "In this section we demonstrate the difference between two different way of differentiating \"chain\" of function.\n",
    "\n",
    "We first consider a chain of functions:\n",
    "\n",
    "$$\n",
    "f(g(h(x))) = f(g(y)) = f(z) = F,\n",
    "$$\n",
    "\n",
    "with \n",
    "\n",
    "$$\n",
    "\\begin{cases}\n",
    "h(x) = y \\\\\n",
    " g(y) = z \\\\ \n",
    " f(z) = F\n",
    "\\end{cases}.\n",
    "$$\n",
    "\n",
    "Then the chain rule gives\n",
    "\n",
    "$$\n",
    "\\frac{\\partial F}{\\partial x} = \\frac{\\partial F}{\\partial z} \\frac{\\partial z}{\\partial y} \\frac{\\partial y}{\\partial x}\n",
    "$$\n",
    "\n",
    "\n",
    "- ***Forward mode*** means that we compute the derivative as the <b>SAME</b> direction as evaluation, i.e.\n",
    "\n",
    "$$\n",
    "\\frac{\\partial y}{\\partial x} \\rightarrow \\frac{\\partial z}{\\partial x} \\rightarrow \\frac{\\partial F}{\\partial x}\n",
    "$$\n",
    "\n",
    "where we compute $\\frac{\\partial z}{\\partial y}$ and $\\frac{\\partial F}{\\partial z}$ in the first and second arrow respectively. Or, equivalently, \n",
    "\n",
    "$$\n",
    "\\frac{\\partial F}{\\partial x} = \\frac{\\partial F}{\\partial z} \\left(\\frac{\\partial z}{\\partial y} \\frac{\\partial y}{\\partial x}\\right)\n",
    "$$\n",
    "\n",
    "\n",
    "- ***Backward mode*** means that we compute the derivative as the <b>REVERSE</b> direction as evaluation, i.e.\n",
    "\n",
    "$$\n",
    "\\frac{\\partial F}{\\partial z} \\rightarrow \\frac{\\partial F}{\\partial y} \\rightarrow \\frac{\\partial F}{\\partial x}\n",
    "$$\n",
    "\n",
    "where we compute $\\frac{\\partial z}{\\partial y}$ and $\\frac{\\partial y}{\\partial x}$ in the first and second arrow respectively. Or, equivalently, \n",
    "\n",
    "$$\n",
    "\\frac{\\partial F}{\\partial x} = \\left(\\frac{\\partial F}{\\partial z} \\frac{\\partial z}{\\partial y}\\right) \\frac{\\partial y}{\\partial x}\n",
    "$$\n",
    "\n",
    "\n",
    "In the univariate case, there are not much computational differences between two different modes but we will see how it makes a difference when we have multivariate functions..."
   ]
  }
 ],
 "metadata": {
  "kernelspec": {
   "display_name": "Julia 1.9.2",
   "language": "julia",
   "name": "julia-1.9"
  },
  "language_info": {
   "file_extension": ".jl",
   "mimetype": "application/julia",
   "name": "julia",
   "version": "1.9.2"
  }
 },
 "nbformat": 4,
 "nbformat_minor": 2
}
